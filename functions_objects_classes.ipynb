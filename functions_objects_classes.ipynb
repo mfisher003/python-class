{
 "cells": [
  {
   "cell_type": "code",
   "execution_count": 2,
   "id": "9c6069b5-7e24-49a5-9d88-3b283e82d096",
   "metadata": {},
   "outputs": [],
   "source": [
    "def add(a):\n",
    "    \"\"\"\n",
    "    add 1 to a\n",
    "    \"\"\"\n",
    "    b = a + 1\n",
    "    print(a, \"if you add one\", b)\n",
    "    return(b)"
   ]
  },
  {
   "cell_type": "code",
   "execution_count": 4,
   "id": "fa74d411-e7a9-4498-b1f5-3a9ffe3258e4",
   "metadata": {},
   "outputs": [
    {
     "name": "stdout",
     "output_type": "stream",
     "text": [
      "Help on function add in module __main__:\n",
      "\n",
      "add(a)\n",
      "    add 1 to a\n",
      "\n"
     ]
    }
   ],
   "source": [
    "help(add)"
   ]
  },
  {
   "cell_type": "code",
   "execution_count": 6,
   "id": "9bdb8b3e-1a17-454c-9c48-677b72faf82b",
   "metadata": {},
   "outputs": [
    {
     "name": "stdout",
     "output_type": "stream",
     "text": [
      "1 if you add one 2\n"
     ]
    },
    {
     "data": {
      "text/plain": [
       "2"
      ]
     },
     "execution_count": 6,
     "metadata": {},
     "output_type": "execute_result"
    }
   ],
   "source": [
    "add(1)"
   ]
  },
  {
   "cell_type": "code",
   "execution_count": 8,
   "id": "dcf49e61-4722-4007-a7fc-b36b7cc03f7d",
   "metadata": {},
   "outputs": [
    {
     "name": "stdout",
     "output_type": "stream",
     "text": [
      "2 if you add one 3\n"
     ]
    },
    {
     "data": {
      "text/plain": [
       "3"
      ]
     },
     "execution_count": 8,
     "metadata": {},
     "output_type": "execute_result"
    }
   ],
   "source": [
    "add(2)"
   ]
  },
  {
   "cell_type": "code",
   "execution_count": 10,
   "id": "d98fcb6e-1aef-4832-97f9-0454ca441624",
   "metadata": {},
   "outputs": [
    {
     "name": "stdout",
     "output_type": "stream",
     "text": [
      "24\n"
     ]
    }
   ],
   "source": [
    "def Mult(a, b):\n",
    "    c = a * b\n",
    "    return(c)\n",
    "    print('This is not printed')\n",
    "    \n",
    "result = Mult(12,2)\n",
    "print(result)"
   ]
  },
  {
   "cell_type": "code",
   "execution_count": 14,
   "id": "5d10d46f-9f4b-477c-a54e-3ba2d0cb7071",
   "metadata": {},
   "outputs": [
    {
     "data": {
      "text/plain": [
       "6"
      ]
     },
     "execution_count": 14,
     "metadata": {},
     "output_type": "execute_result"
    }
   ],
   "source": [
    "Mult(2,3)"
   ]
  },
  {
   "cell_type": "code",
   "execution_count": 16,
   "id": "4e9964af-7c5d-4261-bdb0-7d543646a520",
   "metadata": {},
   "outputs": [
    {
     "data": {
      "text/plain": [
       "31.400000000000002"
      ]
     },
     "execution_count": 16,
     "metadata": {},
     "output_type": "execute_result"
    }
   ],
   "source": [
    "Mult(10.0, 3.14)"
   ]
  },
  {
   "cell_type": "code",
   "execution_count": 22,
   "id": "b04737cb-1942-4650-886c-469074b2b620",
   "metadata": {},
   "outputs": [
    {
     "data": {
      "text/plain": [
       "' Matt Fisher  Matt Fisher '"
      ]
     },
     "execution_count": 22,
     "metadata": {},
     "output_type": "execute_result"
    }
   ],
   "source": [
    "Mult(2, \" Matt Fisher \")"
   ]
  },
  {
   "cell_type": "code",
   "execution_count": 26,
   "id": "9351be5a-1212-459f-b935-7ce3dc88a270",
   "metadata": {},
   "outputs": [],
   "source": [
    "def square(a):\n",
    "    \n",
    "    # Local variable b\n",
    "    b = 1\n",
    "    c = a * a + b\n",
    "    print(a, \"if you square + 1\", c) \n",
    "    return(c)"
   ]
  },
  {
   "cell_type": "code",
   "execution_count": 28,
   "id": "1d0bed44-bfda-4f88-9372-9ac6ace143e8",
   "metadata": {},
   "outputs": [
    {
     "name": "stdout",
     "output_type": "stream",
     "text": [
      "3 if you square + 1 10\n"
     ]
    },
    {
     "data": {
      "text/plain": [
       "10"
      ]
     },
     "execution_count": 28,
     "metadata": {},
     "output_type": "execute_result"
    }
   ],
   "source": [
    "# Initializes Global variable  \n",
    "\n",
    "x = 3\n",
    "# Makes function call and return function a y\n",
    "y = square(x)\n",
    "y"
   ]
  },
  {
   "cell_type": "code",
   "execution_count": 30,
   "id": "674ffca7-94ba-47aa-9293-20f6ef7ebb79",
   "metadata": {},
   "outputs": [
    {
     "name": "stdout",
     "output_type": "stream",
     "text": [
      "2 if you square + 1 5\n"
     ]
    },
    {
     "data": {
      "text/plain": [
       "5"
      ]
     },
     "execution_count": 30,
     "metadata": {},
     "output_type": "execute_result"
    }
   ],
   "source": [
    "square(2)"
   ]
  },
  {
   "cell_type": "code",
   "execution_count": 32,
   "id": "2c1a7e9d-47d9-41b9-8a9e-f21449cb0079",
   "metadata": {},
   "outputs": [],
   "source": [
    "def MJ():\n",
    "    print('Michael Jackson')\n",
    "    \n",
    "def MJ1():\n",
    "    print('Michael Jackson')\n",
    "    return(None)"
   ]
  },
  {
   "cell_type": "code",
   "execution_count": 34,
   "id": "e287d2ed-c099-45d8-a37d-f5fdc3912cc9",
   "metadata": {},
   "outputs": [
    {
     "name": "stdout",
     "output_type": "stream",
     "text": [
      "Michael Jackson\n"
     ]
    }
   ],
   "source": [
    "MJ()"
   ]
  },
  {
   "cell_type": "code",
   "execution_count": 36,
   "id": "a30ef50a-0db4-4b3d-941b-13741909a4eb",
   "metadata": {},
   "outputs": [
    {
     "name": "stdout",
     "output_type": "stream",
     "text": [
      "Michael Jackson\n"
     ]
    }
   ],
   "source": [
    "MJ1()"
   ]
  },
  {
   "cell_type": "code",
   "execution_count": 38,
   "id": "14bf76f3-87b1-418a-94d4-0238d51a63b6",
   "metadata": {},
   "outputs": [
    {
     "name": "stdout",
     "output_type": "stream",
     "text": [
      "Michael Jackson\n",
      "None\n",
      "Michael Jackson\n",
      "None\n"
     ]
    }
   ],
   "source": [
    "print(MJ())\n",
    "print(MJ1())"
   ]
  },
  {
   "cell_type": "code",
   "execution_count": 40,
   "id": "529e594f-3f18-4dea-b01c-99d05de21a78",
   "metadata": {},
   "outputs": [],
   "source": [
    "def con(a, b):\n",
    "    return(a + b)"
   ]
  },
  {
   "cell_type": "code",
   "execution_count": 42,
   "id": "59192a5e-7978-4556-bf56-48dfc93ca37e",
   "metadata": {},
   "outputs": [
    {
     "data": {
      "text/plain": [
       "'This is'"
      ]
     },
     "execution_count": 42,
     "metadata": {},
     "output_type": "execute_result"
    }
   ],
   "source": [
    "con(\"This \", \"is\")"
   ]
  },
  {
   "cell_type": "code",
   "execution_count": 44,
   "id": "c9ef6ea4-447a-4d9f-8535-12d1ddf21640",
   "metadata": {},
   "outputs": [
    {
     "data": {
      "text/plain": [
       "5"
      ]
     },
     "execution_count": 44,
     "metadata": {},
     "output_type": "execute_result"
    }
   ],
   "source": [
    "# a and b calculation block1\n",
    "\n",
    "a1 = 4\n",
    "b1 = 5\n",
    "c1 = a1 + b1 + 2 * a1 * b1 - 1\n",
    "if(c1 < 0):\n",
    "    c1 = 0 \n",
    "else:\n",
    "    c1 = 5\n",
    "c1 "
   ]
  },
  {
   "cell_type": "code",
   "execution_count": 46,
   "id": "0b514146-eea0-4c09-b810-515404a244fb",
   "metadata": {},
   "outputs": [
    {
     "data": {
      "text/plain": [
       "0"
      ]
     },
     "execution_count": 46,
     "metadata": {},
     "output_type": "execute_result"
    }
   ],
   "source": [
    "a2 = 0\n",
    "b2 = 0\n",
    "c2 = a2 + b2 + 2 * a2 * b2 - 1\n",
    "if(c2 < 0):\n",
    "    c2 = 0 \n",
    "else:\n",
    "    c2 = 5\n",
    "c2   "
   ]
  },
  {
   "cell_type": "code",
   "execution_count": 50,
   "id": "70e7fdfc-5243-41e3-bb9e-bc3de96befec",
   "metadata": {},
   "outputs": [],
   "source": [
    "def Equation(a,b):\n",
    "    c = a + b + 2 * a * b - 1\n",
    "    if(c < 0):\n",
    "        c = 0 \n",
    "    else:\n",
    "        c = 5\n",
    "    return(c) "
   ]
  },
  {
   "cell_type": "code",
   "execution_count": 52,
   "id": "9587b163-a53c-4644-ac69-7cbe9bc05907",
   "metadata": {},
   "outputs": [
    {
     "data": {
      "text/plain": [
       "5"
      ]
     },
     "execution_count": 52,
     "metadata": {},
     "output_type": "execute_result"
    }
   ],
   "source": [
    "a1 = 4\n",
    "b1 = 5\n",
    "c1 = Equation(a1, b1)\n",
    "c1"
   ]
  },
  {
   "cell_type": "code",
   "execution_count": 54,
   "id": "a57fb308-e36a-467d-a21d-53fb0a49c345",
   "metadata": {},
   "outputs": [
    {
     "data": {
      "text/plain": [
       "0"
      ]
     },
     "execution_count": 54,
     "metadata": {},
     "output_type": "execute_result"
    }
   ],
   "source": [
    "a2 = 0\n",
    "b2 = 0\n",
    "c2 = Equation(a2, b2)\n",
    "c2"
   ]
  },
  {
   "cell_type": "code",
   "execution_count": 56,
   "id": "96b3b44f-8fcb-42b8-a056-4a16abf10cbf",
   "metadata": {},
   "outputs": [
    {
     "name": "stdout",
     "output_type": "stream",
     "text": [
      "Michael Jackson Thriller 1980\n",
      "Oldie\n"
     ]
    }
   ],
   "source": [
    "def type_of_album(artist, album, year_released):\n",
    "    \n",
    "    print(artist, album, year_released)\n",
    "    if year_released > 1980:\n",
    "        return \"Modern\"\n",
    "    else:\n",
    "        return \"Oldie\"\n",
    "    \n",
    "x = type_of_album(\"Michael Jackson\", \"Thriller\", 1980)\n",
    "print(x)"
   ]
  },
  {
   "cell_type": "code",
   "execution_count": 58,
   "id": "15abf3ce-afd6-4361-bfba-7bbfd86b578c",
   "metadata": {},
   "outputs": [],
   "source": [
    "def PrintList(the_list):\n",
    "    for element in the_list:\n",
    "        print(element)"
   ]
  },
  {
   "cell_type": "code",
   "execution_count": 60,
   "id": "403b2b85-b030-4c86-8017-355423f691ba",
   "metadata": {},
   "outputs": [
    {
     "name": "stdout",
     "output_type": "stream",
     "text": [
      "1\n",
      "1\n",
      "the man\n",
      "abc\n"
     ]
    }
   ],
   "source": [
    "PrintList(['1', 1, 'the man', \"abc\"])"
   ]
  },
  {
   "cell_type": "code",
   "execution_count": 62,
   "id": "385f9c8e-d4ca-4c53-8e41-2329949a0bd1",
   "metadata": {},
   "outputs": [
    {
     "data": {
      "text/plain": [
       "'String matched'"
      ]
     },
     "execution_count": 62,
     "metadata": {},
     "output_type": "execute_result"
    }
   ],
   "source": [
    "#Compare Two Strings Directly using in operator\n",
    "# add string\n",
    "string= \"Michael Jackson is the best\"\n",
    "\n",
    "# Define a funtion\n",
    "def check_string(text):\n",
    "    \n",
    "# Use if else statement and 'in' operatore to compare the string\n",
    "    if text in string:\n",
    "        return 'String matched'\n",
    "    else:\n",
    "        return 'String not matched'\n",
    "\n",
    "check_string(\"Michael Jackson is the best\")"
   ]
  },
  {
   "cell_type": "code",
   "execution_count": 66,
   "id": "67a002ca-f69e-4431-b260-b7c64caf0cd0",
   "metadata": {},
   "outputs": [
    {
     "name": "stdout",
     "output_type": "stream",
     "text": [
      "\n",
      "String not Matched\n"
     ]
    }
   ],
   "source": [
    "#Compare two strings using == operator and function\n",
    "def compareStrings(x, y):\n",
    "# Use if else statement to compare x and y\n",
    "    if x==y:\n",
    "        return 1\n",
    "    \n",
    "# Declare two different variables as string1 and string2 and pass string in it\n",
    "string1 = \"Michael Jackson is the best\"\n",
    "string2 = \"Michael Jackson is not the best\"\n",
    "\n",
    "# Declare a variable to store result after comparing both the strings\n",
    "check = compareStrings(string1, string2)\n",
    "\n",
    "#Use if else statement to compare the string\n",
    "if check==1:\n",
    "    print(\"\\nString Matched\")\n",
    "else:\n",
    "    print(\"\\nString not Matched\")"
   ]
  },
  {
   "cell_type": "code",
   "execution_count": 68,
   "id": "6931ce13-611c-4c21-9b67-8cff9b981eb0",
   "metadata": {},
   "outputs": [
    {
     "name": "stdout",
     "output_type": "stream",
     "text": [
      "The Frequency of words is: {'Mary': 6, 'had': 2, 'a': 2, 'little': 3, 'lamb': 3, 'Little': 1, 'lamb,': 1, 'lamb.Its': 1, 'fleece': 1, 'was': 2, 'white': 1, 'as': 1, 'snow': 1, 'And': 1, 'everywhere': 1, 'that': 2, 'went': 3, 'went,': 1, 'Everywhere': 1, 'The': 1, 'sure': 1, 'to': 1, 'go': 1}\n"
     ]
    }
   ],
   "source": [
    "# Python Program to Count words in a String using Dictionary\n",
    "def freq(string):\n",
    "    \n",
    "    #step1: A list variable is declared and initialized to an empty list.\n",
    "    words = []\n",
    "    \n",
    "    #step2: Break the string into list of words\n",
    "    words = string.split() # or string.lower().split()\n",
    "    \n",
    "    #step3: Declare a dictionary\n",
    "    Dict = {}\n",
    "    \n",
    "    #step4: Use for loop to iterate words and values to the dictionary\n",
    "    for key in words:\n",
    "        Dict[key] = words.count(key)\n",
    "        \n",
    "    #step5: Print the dictionary\n",
    "    print(\"The Frequency of words is:\",Dict)\n",
    "    \n",
    "#step6: Call function and pass string in it\n",
    "freq(\"Mary had a little lamb Little lamb, little lamb Mary had a little lamb.Its fleece was white as snow And everywhere that Mary went Mary went, Mary went \\\n",
    "Everywhere that Mary went The lamb was sure to go\")"
   ]
  },
  {
   "cell_type": "code",
   "execution_count": 70,
   "id": "0cd1d269-7dde-459c-82b5-9942a13eebc7",
   "metadata": {},
   "outputs": [],
   "source": [
    "# Example for setting param with default value\n",
    "\n",
    "def isGoodRating(rating=4): \n",
    "    if(rating < 7):\n",
    "        print(\"this album sucks it's rating is\",rating)\n",
    "        \n",
    "    else:\n",
    "        print(\"this album is good its rating is\",rating)"
   ]
  },
  {
   "cell_type": "code",
   "execution_count": 74,
   "id": "a79ac08f-eca2-49d2-8773-d1f11d835466",
   "metadata": {},
   "outputs": [
    {
     "name": "stdout",
     "output_type": "stream",
     "text": [
      "this album sucks it's rating is 3\n",
      "this album is good its rating is 10\n"
     ]
    }
   ],
   "source": [
    "isGoodRating(3)\n",
    "isGoodRating(10)"
   ]
  },
  {
   "cell_type": "code",
   "execution_count": 86,
   "id": "54a44ab4-7ca8-44c4-a10a-743d5108fb15",
   "metadata": {},
   "outputs": [
    {
     "name": "stdout",
     "output_type": "stream",
     "text": [
      "Michael Jackson is an artist\n"
     ]
    }
   ],
   "source": [
    "# Example of global variable\n",
    "\n",
    "artist = \"Michael Jackson\"\n",
    "def printer1(artist):\n",
    "    internal_var1 = artist\n",
    "    print(artist, \"is an artist\")\n",
    "printer1(artist)\n"
   ]
  },
  {
   "cell_type": "code",
   "execution_count": 90,
   "id": "a2db1750-4244-4913-84c9-123c39bd1fcc",
   "metadata": {},
   "outputs": [
    {
     "name": "stdout",
     "output_type": "stream",
     "text": [
      "Radiohead is an artist\n",
      "Danger Mouse is an artist\n"
     ]
    }
   ],
   "source": [
    "artist = \"Radiohead\"\n",
    "\n",
    "def printer(artist):\n",
    "    global internal_var \n",
    "    internal_var= \"Danger Mouse\"\n",
    "    print(artist,\"is an artist\")\n",
    "\n",
    "printer(artist) \n",
    "printer(internal_var)"
   ]
  },
  {
   "cell_type": "code",
   "execution_count": 92,
   "id": "d884e547-8a93-4872-9616-021d3c2b7429",
   "metadata": {},
   "outputs": [
    {
     "name": "stdout",
     "output_type": "stream",
     "text": [
      "Wu Tangs rating is: 0.0\n",
      "Enter the Wu Tang rating is: 0.0\n",
      "My favourite band is: Wu Tang\n"
     ]
    }
   ],
   "source": [
    "myFavouriteBand = \"Wu Tang\"\n",
    "\n",
    "def getBandRating(bandname):\n",
    "    if bandname == myFavouriteBand:\n",
    "        return 10.0\n",
    "    else:\n",
    "        return 0.0\n",
    "\n",
    "print(\"Wu Tangs rating is:\", getBandRating(\"WU Tang\"))\n",
    "print(\"Enter the Wu Tang rating is:\",getBandRating(\"Enter the Wu Tang\"))\n",
    "print(\"My favourite band is:\", myFavouriteBand)"
   ]
  },
  {
   "cell_type": "code",
   "execution_count": 94,
   "id": "0058d269-8ef6-474f-89b8-53c6079212a1",
   "metadata": {},
   "outputs": [
    {
     "name": "stdout",
     "output_type": "stream",
     "text": [
      "No of arguments: 3\n",
      "Horsefeather\n",
      "Adonis\n",
      "Bone\n",
      "No of arguments: 4\n",
      "Sidecar\n",
      "Long Island\n",
      "Mudslide\n",
      "Carriage\n"
     ]
    }
   ],
   "source": [
    "def printAll(*args): # All the arguments are 'packed' into args which can be treated like a tuple\n",
    "    print(\"No of arguments:\", len(args)) \n",
    "    for argument in args:\n",
    "        print(argument)\n",
    "#printAll with 3 arguments\n",
    "printAll('Horsefeather','Adonis','Bone')\n",
    "#printAll with 4 arguments\n",
    "printAll('Sidecar','Long Island','Mudslide','Carriage')"
   ]
  },
  {
   "cell_type": "code",
   "execution_count": 96,
   "id": "30c20c96-0b0f-4058-a5e2-33a0e93e9d15",
   "metadata": {},
   "outputs": [
    {
     "name": "stdout",
     "output_type": "stream",
     "text": [
      "Country : Canada\n",
      "Province : Ontario\n",
      "City : Toronto\n"
     ]
    }
   ],
   "source": [
    "def printDictionary(**args):\n",
    "    for key in args:\n",
    "        print(key + \" : \" + args[key])\n",
    "\n",
    "printDictionary(Country='Canada',Province='Ontario',City='Toronto')"
   ]
  },
  {
   "cell_type": "code",
   "execution_count": 98,
   "id": "6ec20de8-f0fb-41fc-8c37-b6819a074b74",
   "metadata": {},
   "outputs": [
    {
     "data": {
      "text/plain": [
       "['One', 'Two', 'Three', 'Four']"
      ]
     },
     "execution_count": 98,
     "metadata": {},
     "output_type": "execute_result"
    }
   ],
   "source": [
    "def addItems(list):\n",
    "    list.append(\"Three\")\n",
    "    list.append(\"Four\")\n",
    "\n",
    "myList = [\"One\",\"Two\"]\n",
    "\n",
    "addItems(myList)\n",
    "\n",
    "myList"
   ]
  },
  {
   "cell_type": "code",
   "execution_count": 102,
   "id": "3cd6e700-7ed2-470f-825f-21128886cd65",
   "metadata": {},
   "outputs": [],
   "source": [
    "def div(a,b):\n",
    "    return(a/b)"
   ]
  },
  {
   "cell_type": "code",
   "execution_count": 106,
   "id": "a3807f3b-cf58-45f9-ad67-8a503c9f693d",
   "metadata": {},
   "outputs": [],
   "source": [
    "def con(a,b):\n",
    "    return(a+b)"
   ]
  },
  {
   "cell_type": "code",
   "execution_count": 112,
   "id": "df154bca-bad5-43ce-a8e6-b8c6a2ce0b0e",
   "metadata": {},
   "outputs": [
    {
     "data": {
      "text/plain": [
       "4"
      ]
     },
     "execution_count": 112,
     "metadata": {},
     "output_type": "execute_result"
    }
   ],
   "source": [
    "\n",
    "con(2,2)"
   ]
  },
  {
   "cell_type": "code",
   "execution_count": 114,
   "id": "dfac97ee-c0e6-494e-b304-01b6517ac593",
   "metadata": {},
   "outputs": [
    {
     "data": {
      "text/plain": [
       "['a', 1, 'b', 1]"
      ]
     },
     "execution_count": 114,
     "metadata": {},
     "output_type": "execute_result"
    }
   ],
   "source": [
    "con(['a', 1], ['b', 1])"
   ]
  },
  {
   "cell_type": "code",
   "execution_count": 121,
   "id": "0963a941-4a5e-440c-be10-34aae4c816d3",
   "metadata": {},
   "outputs": [
    {
     "name": "stdout",
     "output_type": "stream",
     "text": [
      "Total Count: {'little': 3}\n"
     ]
    }
   ],
   "source": [
    "# Python Program to Count words in a String using Dictionary\n",
    "def freq(string,passedkey):\n",
    "\n",
    "    #step1: A list variable is declared and initialized to an empty list.\n",
    "    words = []\n",
    "\n",
    "    #step2: Break the string into list of words\n",
    "    words = string.split() # or string.lower().split()\n",
    "\n",
    "    #step3: Declare a dictionary\n",
    "    Dict = {}\n",
    "\n",
    "    #step4: Use for loop to iterate words and values to the dictionary\n",
    "    for key in words:\n",
    "        if(key == passedkey):\n",
    "            Dict[key] = words.count(key)   \n",
    "    #step5: Print the dictionary\n",
    "    print(\"Total Count:\",Dict)\n",
    "\n",
    "#step6: Call function and pass string in it\n",
    "freq(\"Mary had a little lamb Little lamb, little lamb Mary had a little lamb.Its fleece was white as snow And everywhere that Mary went Mary went, Mary went \\\n",
    "Everywhere that Mary went The lamb was sure to go\",\"little\")"
   ]
  },
  {
   "cell_type": "code",
   "execution_count": 142,
   "id": "5c23ea71-46b6-450a-8bc7-7fef192abc4c",
   "metadata": {
    "editable": true,
    "slideshow": {
     "slide_type": ""
    },
    "tags": []
   },
   "outputs": [],
   "source": [
    "import matplotlib.pyplot as plt\n",
    "%matplotlib inline"
   ]
  },
  {
   "cell_type": "code",
   "execution_count": 146,
   "id": "dca0f44c-4479-4e60-ab12-fadaaac82714",
   "metadata": {
    "editable": true,
    "slideshow": {
     "slide_type": ""
    },
    "tags": []
   },
   "outputs": [],
   "source": [
    "class Circle(object):\n",
    "    \n",
    "    # Constructor\n",
    "    def __init__(self, radius=3, color='blue'):\n",
    "        self.radius = radius\n",
    "        self.color = color \n",
    "    \n",
    "    # Method\n",
    "    def add_radius(self, r):\n",
    "        self.radius = self.radius + r\n",
    "        return(self.radius)\n",
    "    \n",
    "    # Method\n",
    "    def drawCircle(self):\n",
    "        plt.gca().add_patch(plt.Circle((0, 0), radius=self.radius, fc=self.color))\n",
    "        plt.axis('scaled')\n",
    "        plt.show() "
   ]
  },
  {
   "cell_type": "code",
   "execution_count": 156,
   "id": "22f8b9ee-4cc0-49de-a9ea-50d9bb00bca7",
   "metadata": {
    "editable": true,
    "slideshow": {
     "slide_type": ""
    },
    "tags": []
   },
   "outputs": [],
   "source": [
    "RedCircle = Circle(10, 'red')"
   ]
  },
  {
   "cell_type": "code",
   "execution_count": null,
   "id": "fb0faae1-89a9-4d87-8ea3-61bb01772a8f",
   "metadata": {
    "editable": true,
    "slideshow": {
     "slide_type": ""
    },
    "tags": []
   },
   "outputs": [],
   "source": [
    "dir(RedCircle)"
   ]
  },
  {
   "cell_type": "code",
   "execution_count": 152,
   "id": "64a82443-a4c5-4e4a-b1b0-c43b685b2bdf",
   "metadata": {},
   "outputs": [
    {
     "data": {
      "text/plain": [
       "10"
      ]
     },
     "execution_count": 152,
     "metadata": {},
     "output_type": "execute_result"
    }
   ],
   "source": [
    "RedCircle.radius"
   ]
  },
  {
   "cell_type": "markdown",
   "id": "7fe1ab1a-732a-4933-af68-278fe3e5ada4",
   "metadata": {},
   "source": [
    "RedCircle.color"
   ]
  },
  {
   "cell_type": "code",
   "execution_count": 159,
   "id": "0975c6e6-8870-4ce4-befa-1aeea23b4019",
   "metadata": {},
   "outputs": [
    {
     "data": {
      "text/plain": [
       "1"
      ]
     },
     "execution_count": 159,
     "metadata": {},
     "output_type": "execute_result"
    }
   ],
   "source": [
    "RedCircle.radius = 1\n",
    "RedCircle.radius"
   ]
  },
  {
   "cell_type": "code",
   "execution_count": 161,
   "id": "f6b0fd3e-f8b3-4c9a-825e-9af0f3919a44",
   "metadata": {},
   "outputs": [
    {
     "data": {
      "image/png": "[encoded data removed]",
      "text/plain": [
       "<Figure size 640x480 with 1 Axes>"
      ]
     },
     "metadata": {},
     "output_type": "display_data"
    }
   ],
   "source": [
    "RedCircle.drawCircle()"
   ]
  },
  {
   "cell_type": "code",
   "execution_count": 163,
   "id": "709210c2-ab51-47f0-bfcd-cc946d66cdcf",
   "metadata": {},
   "outputs": [
    {
     "name": "stdout",
     "output_type": "stream",
     "text": [
      "Radius of object: 1\n",
      "Radius of object of after applying the method add_radius(2): 3\n",
      "Radius of object of after applying the method add_radius(5): 8\n"
     ]
    }
   ],
   "source": [
    "print('Radius of object:',RedCircle.radius)\n",
    "RedCircle.add_radius(2)\n",
    "print('Radius of object of after applying the method add_radius(2):',RedCircle.radius)\n",
    "RedCircle.add_radius(5)\n",
    "print('Radius of object of after applying the method add_radius(5):',RedCircle.radius)"
   ]
  },
  {
   "cell_type": "code",
   "execution_count": 165,
   "id": "0f394be4-404f-4ad5-8622-8ac128754e71",
   "metadata": {},
   "outputs": [],
   "source": [
    "BlueCircle = Circle(radius=100)"
   ]
  },
  {
   "cell_type": "code",
   "execution_count": 167,
   "id": "316ac97c-55ae-4a8a-b9cf-d42d918f0573",
   "metadata": {},
   "outputs": [
    {
     "data": {
      "text/plain": [
       "'blue'"
      ]
     },
     "execution_count": 167,
     "metadata": {},
     "output_type": "execute_result"
    }
   ],
   "source": [
    "BlueCircle.color"
   ]
  },
  {
   "cell_type": "code",
   "execution_count": 169,
   "id": "f7aa620c-2ee8-4fc4-801d-1277fe034ae7",
   "metadata": {},
   "outputs": [
    {
     "data": {
      "image/png": "[encoded data removed]",
      "text/plain": [
       "<Figure size 640x480 with 1 Axes>"
      ]
     },
     "metadata": {},
     "output_type": "display_data"
    }
   ],
   "source": [
    "BlueCircle.drawCircle()"
   ]
  },
  {
   "cell_type": "code",
   "execution_count": 171,
   "id": "b09cd2bf-92c4-4016-872a-3af67e29b9be",
   "metadata": {},
   "outputs": [],
   "source": [
    "class Rectangle(object):\n",
    "    \n",
    "    # Constructor\n",
    "    def __init__(self, width=2, height=3, color='r'):\n",
    "        self.height = height \n",
    "        self.width = width\n",
    "        self.color = color\n",
    "    \n",
    "    # Method\n",
    "    def drawRectangle(self):\n",
    "        plt.gca().add_patch(plt.Rectangle((0, 0), self.width, self.height ,fc=self.color))\n",
    "        plt.axis('scaled')\n",
    "        plt.show()"
   ]
  },
  {
   "cell_type": "code",
   "execution_count": null,
   "id": "bbd7eaf9-e272-4d5f-9909-2f183d82674f",
   "metadata": {},
   "outputs": [],
   "source": []
  }
 ],
 "metadata": {
  "kernelspec": {
   "display_name": "anaconda-panel-2023.05-py310",
   "language": "python",
   "name": "conda-env-anaconda-panel-2023.05-py310-py"
  },
  "language_info": {
   "codemirror_mode": {
    "name": "ipython",
    "version": 3
   },
   "file_extension": ".py",
   "mimetype": "text/x-python",
   "name": "python",
   "nbconvert_exporter": "python",
   "pygments_lexer": "ipython3",
   "version": "3.11.5"
  }
 },
 "nbformat": 4,
 "nbformat_minor": 5
}
