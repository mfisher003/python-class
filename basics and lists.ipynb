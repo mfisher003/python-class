{
 "cells": [
  {
   "cell_type": "code",
   "execution_count": 1,
   "id": "8aadac7f-ff19-49bf-94f6-8006460de60c",
   "metadata": {},
   "outputs": [
    {
     "name": "stdout",
     "output_type": "stream",
     "text": [
      "hello\n"
     ]
    }
   ],
   "source": [
    "print('hello')"
   ]
  },
  {
   "cell_type": "code",
   "execution_count": 4,
   "id": "ee3c482f-05ed-4dee-9268-be91991a51ac",
   "metadata": {},
   "outputs": [
    {
     "data": {
      "text/plain": [
       "'Michael Jackson'"
      ]
     },
     "execution_count": 4,
     "metadata": {},
     "output_type": "execute_result"
    }
   ],
   "source": [
    "name = \"Michael Jackson\"\n",
    "name"
   ]
  },
  {
   "cell_type": "code",
   "execution_count": 6,
   "id": "588abbc8-1484-44a8-b254-e59f07db2307",
   "metadata": {},
   "outputs": [
    {
     "name": "stdout",
     "output_type": "stream",
     "text": [
      "M\n"
     ]
    }
   ],
   "source": [
    "print(name[0])"
   ]
  },
  {
   "cell_type": "code",
   "execution_count": 9,
   "id": "8ca419ab-e933-4564-885f-92efc7fa5cd7",
   "metadata": {},
   "outputs": [
    {
     "name": "stdout",
     "output_type": "stream",
     "text": [
      "o\n"
     ]
    }
   ],
   "source": [
    "print(name[13])"
   ]
  },
  {
   "cell_type": "code",
   "execution_count": 11,
   "id": "f1efe9e8-f67e-4194-a602-8c5ffccdaebb",
   "metadata": {},
   "outputs": [
    {
     "name": "stdout",
     "output_type": "stream",
     "text": [
      "n\n"
     ]
    }
   ],
   "source": [
    "print(name[-1])"
   ]
  },
  {
   "cell_type": "code",
   "execution_count": 13,
   "id": "26a90a7a-42b1-4f8e-b0e1-7d0355c39d34",
   "metadata": {},
   "outputs": [
    {
     "data": {
      "text/plain": [
       "15"
      ]
     },
     "execution_count": 13,
     "metadata": {},
     "output_type": "execute_result"
    }
   ],
   "source": [
    "len(\"micheal jackson\")"
   ]
  },
  {
   "cell_type": "code",
   "execution_count": 17,
   "id": "c48f74d1-df49-4a9f-9eb4-5964c0f9bf79",
   "metadata": {},
   "outputs": [
    {
     "data": {
      "text/plain": [
       "'Mich'"
      ]
     },
     "execution_count": 17,
     "metadata": {},
     "output_type": "execute_result"
    }
   ],
   "source": [
    "name[0:4]"
   ]
  },
  {
   "cell_type": "code",
   "execution_count": 19,
   "id": "00fb5dcd-fd22-4b8e-9f7e-74033173e354",
   "metadata": {},
   "outputs": [
    {
     "data": {
      "text/plain": [
       "'Jack'"
      ]
     },
     "execution_count": 19,
     "metadata": {},
     "output_type": "execute_result"
    }
   ],
   "source": [
    "name[8:12]"
   ]
  },
  {
   "cell_type": "code",
   "execution_count": 21,
   "id": "2ea623ba-e3a3-45b2-a709-17126d490c85",
   "metadata": {},
   "outputs": [
    {
     "data": {
      "text/plain": [
       "'McalJcsn'"
      ]
     },
     "execution_count": 21,
     "metadata": {},
     "output_type": "execute_result"
    }
   ],
   "source": [
    "name[::2]"
   ]
  },
  {
   "cell_type": "code",
   "execution_count": 23,
   "id": "93abc62b-e786-4933-bc90-b17fe8fad0e0",
   "metadata": {},
   "outputs": [
    {
     "data": {
      "text/plain": [
       "'Mca'"
      ]
     },
     "execution_count": 23,
     "metadata": {},
     "output_type": "execute_result"
    }
   ],
   "source": [
    "name[0:5:2]"
   ]
  },
  {
   "cell_type": "code",
   "execution_count": 27,
   "id": "dc9f836c-2a9e-409a-901a-282011899205",
   "metadata": {},
   "outputs": [
    {
     "data": {
      "text/plain": [
       "'Michael Jackson is the best'"
      ]
     },
     "execution_count": 27,
     "metadata": {},
     "output_type": "execute_result"
    }
   ],
   "source": [
    "statement = name +\" is the best\"\n",
    "statement"
   ]
  },
  {
   "cell_type": "code",
   "execution_count": 33,
   "id": "94e79d54-05e0-4325-8444-359bbdf1df62",
   "metadata": {},
   "outputs": [
    {
     "data": {
      "text/plain": [
       "'Michael JacksonMichael JacksonMichael Jackson'"
      ]
     },
     "execution_count": 33,
     "metadata": {},
     "output_type": "execute_result"
    }
   ],
   "source": [
    "3 * name "
   ]
  },
  {
   "cell_type": "code",
   "execution_count": 35,
   "id": "cf61fbb2-7e8f-4b1f-8c8a-f1b54854c108",
   "metadata": {},
   "outputs": [
    {
     "data": {
      "text/plain": [
       "'Michael Jackson is the best'"
      ]
     },
     "execution_count": 35,
     "metadata": {},
     "output_type": "execute_result"
    }
   ],
   "source": [
    "name = \"Michael Jackson\"\n",
    "name = name + \" is the best\"\n",
    "name"
   ]
  },
  {
   "cell_type": "code",
   "execution_count": 37,
   "id": "c33c983e-4f71-446f-bc3d-683eb807412c",
   "metadata": {},
   "outputs": [
    {
     "name": "stdout",
     "output_type": "stream",
     "text": [
      " Micheal Jackson \n",
      " is the best\n"
     ]
    }
   ],
   "source": [
    "print(\" Micheal Jackson \\n is the best\")"
   ]
  },
  {
   "cell_type": "code",
   "execution_count": 39,
   "id": "6fbb25a3-132c-494b-8a10-bbb9462f47a3",
   "metadata": {},
   "outputs": [
    {
     "name": "stdout",
     "output_type": "stream",
     "text": [
      " Michael Jackson \\ is the best\n"
     ]
    }
   ],
   "source": [
    "print(\" Michael Jackson \\\\ is the best\" )"
   ]
  },
  {
   "cell_type": "code",
   "execution_count": 41,
   "id": "68abcf04-25bc-4952-b6ed-0a2ff0a35947",
   "metadata": {},
   "outputs": [
    {
     "name": "stdout",
     "output_type": "stream",
     "text": [
      " Michael Jackson \\ is the best\n"
     ]
    }
   ],
   "source": [
    "print(r\" Michael Jackson \\ is the best\" )"
   ]
  },
  {
   "cell_type": "code",
   "execution_count": 43,
   "id": "7d417e07-d21d-4019-8c94-d09ba455bdcc",
   "metadata": {},
   "outputs": [
    {
     "name": "stdout",
     "output_type": "stream",
     "text": [
      "before upper: Thriller is the sixth studio album\n",
      "After upper: THRILLER IS THE SIXTH STUDIO ALBUM\n"
     ]
    }
   ],
   "source": [
    "a = \"Thriller is the sixth studio album\"\n",
    "print(\"before upper:\", a)\n",
    "b = a.upper()\n",
    "print(\"After upper:\", b)"
   ]
  },
  {
   "cell_type": "code",
   "execution_count": 45,
   "id": "be32adb6-5f08-4638-897f-853403654a48",
   "metadata": {},
   "outputs": [
    {
     "data": {
      "text/plain": [
       "'Janet Jackson is the best'"
      ]
     },
     "execution_count": 45,
     "metadata": {},
     "output_type": "execute_result"
    }
   ],
   "source": [
    "a = \"Michael Jackson is the best\"\n",
    "b = a.replace('Michael', 'Janet')\n",
    "b"
   ]
  },
  {
   "cell_type": "code",
   "execution_count": 47,
   "id": "55c116c3-5c4f-4ef7-8f34-bf7e79f99e3d",
   "metadata": {},
   "outputs": [
    {
     "data": {
      "text/plain": [
       "5"
      ]
     },
     "execution_count": 47,
     "metadata": {},
     "output_type": "execute_result"
    }
   ],
   "source": [
    "name = \"Michael Jackson\"\n",
    "name.find('el')"
   ]
  },
  {
   "cell_type": "code",
   "execution_count": 49,
   "id": "a2efa792-8749-433a-b3d1-561b5536bddc",
   "metadata": {},
   "outputs": [
    {
     "data": {
      "text/plain": [
       "-1"
      ]
     },
     "execution_count": 49,
     "metadata": {},
     "output_type": "execute_result"
    }
   ],
   "source": [
    "name.find('Jasdfasdasdf')"
   ]
  },
  {
   "cell_type": "code",
   "execution_count": 51,
   "id": "247b0b76-8b5c-43ff-b809-8263d8315030",
   "metadata": {},
   "outputs": [
    {
     "data": {
      "text/plain": [
       "['Michael', 'Jackson']"
      ]
     },
     "execution_count": 51,
     "metadata": {},
     "output_type": "execute_result"
    }
   ],
   "source": [
    "name = \"Michael Jackson\"\n",
    "split_string = (name.split())\n",
    "split_string"
   ]
  },
  {
   "cell_type": "code",
   "execution_count": 57,
   "id": "06c8ce1b-2167-4767-886a-36b6030daf83",
   "metadata": {},
   "outputs": [],
   "source": [
    "pattern = r\"\\d\\d\\d\\d\\d\\d\\d\\d\\d\\d\""
   ]
  },
  {
   "cell_type": "code",
   "execution_count": 59,
   "id": "e8bafb3d-0e47-4596-b2f3-7b80ddceb9b1",
   "metadata": {},
   "outputs": [],
   "source": [
    "text = \"My Phone number is 1234567890\""
   ]
  },
  {
   "cell_type": "code",
   "execution_count": 65,
   "id": "856e0cb7-b8b9-4df9-9f28-4dce3f355850",
   "metadata": {},
   "outputs": [],
   "source": [
    "a = \"1\""
   ]
  },
  {
   "cell_type": "code",
   "execution_count": 67,
   "id": "9eca0ac1-ab3e-4d31-9a19-93486ba56b32",
   "metadata": {},
   "outputs": [],
   "source": [
    "b = \"2\""
   ]
  },
  {
   "cell_type": "code",
   "execution_count": 69,
   "id": "20ad3712-5a8e-4b42-9393-8d6ad69eaeb3",
   "metadata": {},
   "outputs": [],
   "source": [
    "c = a + b"
   ]
  },
  {
   "cell_type": "code",
   "execution_count": 71,
   "id": "1d486733-3e5b-40fb-959e-eb35620c2677",
   "metadata": {},
   "outputs": [
    {
     "data": {
      "text/plain": [
       "['Michael Jackson', 10.1, 1982]"
      ]
     },
     "execution_count": 71,
     "metadata": {},
     "output_type": "execute_result"
    }
   ],
   "source": [
    "L = [\"Michael Jackson\", 10.1, 1982]\n",
    "L"
   ]
  },
  {
   "cell_type": "code",
   "execution_count": 73,
   "id": "9f077251-e55d-42f7-a2ca-95e7a5210d37",
   "metadata": {},
   "outputs": [
    {
     "name": "stdout",
     "output_type": "stream",
     "text": [
      "Michael Jackson\n"
     ]
    }
   ],
   "source": [
    "print(L[0])"
   ]
  },
  {
   "cell_type": "code",
   "execution_count": 75,
   "id": "67eca995-5bdd-4c16-a8f8-51f12771503c",
   "metadata": {},
   "outputs": [
    {
     "name": "stdout",
     "output_type": "stream",
     "text": [
      "Michael Jackson\n"
     ]
    }
   ],
   "source": [
    "print(L[-3])"
   ]
  },
  {
   "cell_type": "code",
   "execution_count": 77,
   "id": "5a98e706-1408-4c9c-8636-7c2ffa90d414",
   "metadata": {},
   "outputs": [
    {
     "data": {
      "text/plain": [
       "['Michael Jackson', 10.1, 1982, [1, 2], ('A', 1)]"
      ]
     },
     "execution_count": 77,
     "metadata": {},
     "output_type": "execute_result"
    }
   ],
   "source": [
    "[\"Michael Jackson\", 10.1, 1982, [1, 2], (\"A\", 1)]"
   ]
  },
  {
   "cell_type": "code",
   "execution_count": 81,
   "id": "489c7d68-b747-46b4-bdd4-9cc8dc8d02eb",
   "metadata": {},
   "outputs": [
    {
     "data": {
      "text/plain": [
       "['Michael Jackson', 10.1, 1982, 'MJ', 1]"
      ]
     },
     "execution_count": 81,
     "metadata": {},
     "output_type": "execute_result"
    }
   ],
   "source": [
    "L = [\"Michael Jackson\", 10.1, 1982, \"MJ\", 1]\n",
    "L"
   ]
  },
  {
   "cell_type": "code",
   "execution_count": 83,
   "id": "c7dea6d5-234f-4800-b800-83d10d7fc62c",
   "metadata": {},
   "outputs": [
    {
     "data": {
      "text/plain": [
       "['MJ', 1]"
      ]
     },
     "execution_count": 83,
     "metadata": {},
     "output_type": "execute_result"
    }
   ],
   "source": [
    "L[3:5]"
   ]
  },
  {
   "cell_type": "code",
   "execution_count": 85,
   "id": "6e208e4e-df81-45b6-88ce-f73fde995ff9",
   "metadata": {},
   "outputs": [
    {
     "data": {
      "text/plain": [
       "['Michael Jackson', 10.2, 'pop', 10]"
      ]
     },
     "execution_count": 85,
     "metadata": {},
     "output_type": "execute_result"
    }
   ],
   "source": [
    "L = [ \"Michael Jackson\", 10.2]\n",
    "L.extend(['pop',10])\n",
    "L"
   ]
  },
  {
   "cell_type": "code",
   "execution_count": 87,
   "id": "37884631-01ae-4993-8cc9-fc3f87287be7",
   "metadata": {},
   "outputs": [
    {
     "data": {
      "text/plain": [
       "['Michael Jackson', 10.2, ['pop', 10]]"
      ]
     },
     "execution_count": 87,
     "metadata": {},
     "output_type": "execute_result"
    }
   ],
   "source": [
    "L = [ \"Michael Jackson\", 10.2]\n",
    "L.append(['pop',10])\n",
    "L"
   ]
  },
  {
   "cell_type": "code",
   "execution_count": 89,
   "id": "813e9093-2052-4102-a52b-90f140eb8c40",
   "metadata": {},
   "outputs": [
    {
     "data": {
      "text/plain": [
       "['Michael Jackson', 10.2, ['pop', 10], ['a', 'b']]"
      ]
     },
     "execution_count": 89,
     "metadata": {},
     "output_type": "execute_result"
    }
   ],
   "source": [
    "L.append(['a','b'])\n",
    "L"
   ]
  },
  {
   "cell_type": "code",
   "execution_count": 91,
   "id": "e9b9d34e-d934-4a24-b729-5ac9ec1e7699",
   "metadata": {},
   "outputs": [
    {
     "name": "stdout",
     "output_type": "stream",
     "text": [
      "Before Change ['disco', 10, 1.2]\n",
      "after change ['hard rock', 10, 1.2]\n"
     ]
    }
   ],
   "source": [
    "A = [\"disco\", 10, 1.2]\n",
    "print('Before Change', A)\n",
    "A[0] = 'hard rock'\n",
    "print('after change', A)"
   ]
  },
  {
   "cell_type": "code",
   "execution_count": 93,
   "id": "4d87501c-4224-472c-b6c4-53e323888193",
   "metadata": {},
   "outputs": [
    {
     "name": "stdout",
     "output_type": "stream",
     "text": [
      "before change ['hard rock', 10, 1.2]\n",
      "After change [10, 1.2]\n"
     ]
    }
   ],
   "source": [
    "print('before change', A)\n",
    "del(A[0])\n",
    "print('After change', A)"
   ]
  },
  {
   "cell_type": "code",
   "execution_count": 95,
   "id": "53ded8ca-a2c5-4b8c-a649-7099a766fed8",
   "metadata": {},
   "outputs": [
    {
     "data": {
      "text/plain": [
       "['hard', 'rock']"
      ]
     },
     "execution_count": 95,
     "metadata": {},
     "output_type": "execute_result"
    }
   ],
   "source": [
    "'hard rock' .split()"
   ]
  },
  {
   "cell_type": "code",
   "execution_count": 97,
   "id": "1582ecec-4399-45b5-9115-be43c20448dc",
   "metadata": {},
   "outputs": [
    {
     "data": {
      "text/plain": [
       "['A', ' B', ' C', ' D']"
      ]
     },
     "execution_count": 97,
     "metadata": {},
     "output_type": "execute_result"
    }
   ],
   "source": [
    "\"A, B, C, D\" .split(',')"
   ]
  },
  {
   "cell_type": "code",
   "execution_count": 99,
   "id": "7214178e-739f-44d2-8bd1-c470121b9258",
   "metadata": {},
   "outputs": [
    {
     "name": "stdout",
     "output_type": "stream",
     "text": [
      "A ['hard rock', 10, 1.2]\n",
      "B ['hard rock', 10, 1.2]\n"
     ]
    }
   ],
   "source": [
    "A = [\"hard rock\", 10, 1.2]\n",
    "B = A\n",
    "print('A', A)\n",
    "print('B', B)"
   ]
  },
  {
   "cell_type": "code",
   "execution_count": 101,
   "id": "0b9f47f9-cf9a-497f-8d2d-15ab2f2ab079",
   "metadata": {},
   "outputs": [
    {
     "name": "stdout",
     "output_type": "stream",
     "text": [
      "B[0]: hard rock\n",
      "B[0]: banana\n"
     ]
    }
   ],
   "source": [
    "print('B[0]:', B[0])\n",
    "A[0] = \"banana\"\n",
    "print('B[0]:', B[0])"
   ]
  },
  {
   "cell_type": "code",
   "execution_count": 105,
   "id": "31cf38dd-2c9a-429b-a4dd-8ace3e579a6e",
   "metadata": {},
   "outputs": [
    {
     "data": {
      "text/plain": [
       "['banana', 10, 1.2]"
      ]
     },
     "execution_count": 105,
     "metadata": {},
     "output_type": "execute_result"
    }
   ],
   "source": [
    "B = A[:]\n",
    "B"
   ]
  },
  {
   "cell_type": "code",
   "execution_count": 107,
   "id": "5282399f-9942-4a94-8e4a-b72d4497832b",
   "metadata": {},
   "outputs": [
    {
     "name": "stdout",
     "output_type": "stream",
     "text": [
      "B[0]: banana\n",
      "B[0]: banana\n"
     ]
    }
   ],
   "source": [
    "print('B[0]:', B[0])\n",
    "A[0] = \"hard rock\"\n",
    "print('B[0]:', B[0])"
   ]
  },
  {
   "cell_type": "code",
   "execution_count": 109,
   "id": "25a86bfe-fb13-4464-b7bd-53b551e8fa1b",
   "metadata": {},
   "outputs": [
    {
     "data": {
      "text/plain": [
       "[1, 'hello', [1, 2, 3], 'true']"
      ]
     },
     "execution_count": 109,
     "metadata": {},
     "output_type": "execute_result"
    }
   ],
   "source": [
    "L = [1, \"hello\", [1,2,3], \"true\"]\n",
    "L"
   ]
  },
  {
   "cell_type": "code",
   "execution_count": 111,
   "id": "0cee0ad4-6149-4412-9d2c-fb01a60ded62",
   "metadata": {},
   "outputs": [
    {
     "data": {
      "text/plain": [
       "[1, 'hello', [1, 2, 3], True]"
      ]
     },
     "execution_count": 111,
     "metadata": {},
     "output_type": "execute_result"
    }
   ],
   "source": [
    "a_list = [1, 'hello', [1, 2, 3] , True]\n",
    "a_list"
   ]
  },
  {
   "cell_type": "code",
   "execution_count": 113,
   "id": "db29bffc-bf86-41e4-884c-d8a03daa16f8",
   "metadata": {},
   "outputs": [
    {
     "name": "stdout",
     "output_type": "stream",
     "text": [
      "hello\n"
     ]
    }
   ],
   "source": [
    "print(L[1])"
   ]
  },
  {
   "cell_type": "code",
   "execution_count": 121,
   "id": "1cf8d88a-93a3-44b3-812c-879cfb6393dc",
   "metadata": {},
   "outputs": [
    {
     "name": "stdout",
     "output_type": "stream",
     "text": [
      "hello [2] [3]\n"
     ]
    }
   ],
   "source": [
    "print(a_list[1],[2],[3])"
   ]
  },
  {
   "cell_type": "code",
   "execution_count": 123,
   "id": "04ae7a3e-c8cf-4cec-bce8-496f28fd30c4",
   "metadata": {},
   "outputs": [
    {
     "data": {
      "text/plain": [
       "['hello', [1, 2, 3], True]"
      ]
     },
     "execution_count": 123,
     "metadata": {},
     "output_type": "execute_result"
    }
   ],
   "source": [
    "a_list[1:4]"
   ]
  },
  {
   "cell_type": "code",
   "execution_count": 125,
   "id": "fc2cc00a-3f96-4e9b-a6d3-667688b58999",
   "metadata": {},
   "outputs": [
    {
     "data": {
      "text/plain": [
       "[1, 'a', 2, 1, 'd']"
      ]
     },
     "execution_count": 125,
     "metadata": {},
     "output_type": "execute_result"
    }
   ],
   "source": [
    "A = [1, 'a'] \n",
    "B = [2, 1, 'd']\n",
    "A + B"
   ]
  },
  {
   "cell_type": "code",
   "execution_count": 127,
   "id": "56f5b051-9726-4284-96c0-b0ccaa066dd7",
   "metadata": {},
   "outputs": [],
   "source": [
    "shopping_list=[]"
   ]
  },
  {
   "cell_type": "code",
   "execution_count": 129,
   "id": "e74cd622-5e1f-4302-98be-e44535a75608",
   "metadata": {},
   "outputs": [],
   "source": [
    "shopping_list=[\"watch\", \"laptop\", \"shoes\", \"pen\", \"clothes\"]"
   ]
  },
  {
   "cell_type": "code",
   "execution_count": 131,
   "id": "229172da-fd69-4e13-9829-5677b28860ae",
   "metadata": {},
   "outputs": [
    {
     "data": {
      "text/plain": [
       "['watch', 'laptop', 'shoes', 'pen', 'clothes']"
      ]
     },
     "execution_count": 131,
     "metadata": {},
     "output_type": "execute_result"
    }
   ],
   "source": [
    "shopping_list=[\"watch\", \"laptop\", \"shoes\", \"pen\", \"clothes\"]\n",
    "shopping_list"
   ]
  },
  {
   "cell_type": "code",
   "execution_count": 133,
   "id": "5ebfaabc-4159-4448-9b98-ede9ed781689",
   "metadata": {
    "scrolled": true
   },
   "outputs": [
    {
     "data": {
      "text/plain": [
       "['watch', 'laptop', 'shoes', 'pen', 'clothes', 'football']"
      ]
     },
     "execution_count": 133,
     "metadata": {},
     "output_type": "execute_result"
    }
   ],
   "source": [
    "shopping_list.extend(['football'])\n",
    "shopping_list"
   ]
  },
  {
   "cell_type": "code",
   "execution_count": 135,
   "id": "bff3db22-d3f8-43c4-aee4-e15f82926bfe",
   "metadata": {},
   "outputs": [
    {
     "name": "stdout",
     "output_type": "stream",
     "text": [
      "[0]\n"
     ]
    }
   ],
   "source": [
    "print([0])"
   ]
  },
  {
   "cell_type": "code",
   "execution_count": 139,
   "id": "b18666ce-a4b9-4b1c-866c-a95c996a403c",
   "metadata": {},
   "outputs": [
    {
     "name": "stdout",
     "output_type": "stream",
     "text": [
      "watch\n"
     ]
    }
   ],
   "source": [
    "print(shopping_list[0])"
   ]
  },
  {
   "cell_type": "code",
   "execution_count": 143,
   "id": "61354ebf-ff07-4f85-9b00-9cfd8e576616",
   "metadata": {},
   "outputs": [
    {
     "name": "stdout",
     "output_type": "stream",
     "text": [
      "football\n"
     ]
    }
   ],
   "source": [
    "print(shopping_list[5])"
   ]
  },
  {
   "cell_type": "code",
   "execution_count": 145,
   "id": "d118bb0d-6884-4947-b988-da8e152ff624",
   "metadata": {},
   "outputs": [
    {
     "name": "stdout",
     "output_type": "stream",
     "text": [
      "football\n"
     ]
    }
   ],
   "source": [
    "print(shopping_list[-1])"
   ]
  },
  {
   "cell_type": "code",
   "execution_count": 147,
   "id": "3b8ddd8d-2b8c-492c-8e7c-bf2c3ec00717",
   "metadata": {},
   "outputs": [
    {
     "name": "stdout",
     "output_type": "stream",
     "text": [
      "['watch', 'laptop', 'shoes', 'pen', 'clothes', 'football']\n"
     ]
    }
   ],
   "source": [
    "print(shopping_list[0:6])"
   ]
  },
  {
   "cell_type": "code",
   "execution_count": 149,
   "id": "11ef0526-1b43-4a02-868e-54cb2db66926",
   "metadata": {},
   "outputs": [
    {
     "name": "stdout",
     "output_type": "stream",
     "text": [
      "['laptop']\n"
     ]
    }
   ],
   "source": [
    "print(shopping_list[1:2])"
   ]
  },
  {
   "cell_type": "code",
   "execution_count": 151,
   "id": "ab018ae4-cc2c-42d1-8909-d81330f4be79",
   "metadata": {},
   "outputs": [
    {
     "name": "stdout",
     "output_type": "stream",
     "text": [
      "['laptop', 'shoes']\n"
     ]
    }
   ],
   "source": [
    "print(shopping_list[1:3])"
   ]
  },
  {
   "cell_type": "code",
   "execution_count": 153,
   "id": "88d9381e-97c9-4a72-a922-da0b4ed787f0",
   "metadata": {},
   "outputs": [
    {
     "data": {
      "text/plain": [
       "['watch', 'laptop', 'shoes', 'notebook', 'clothes', 'football']"
      ]
     },
     "execution_count": 153,
     "metadata": {},
     "output_type": "execute_result"
    }
   ],
   "source": [
    "\n",
    "shopping_list[3] = 'notebook'\n",
    "shopping_list"
   ]
  },
  {
   "cell_type": "code",
   "execution_count": 155,
   "id": "c09f8210-781c-45fc-99d9-a16df964d994",
   "metadata": {},
   "outputs": [],
   "source": [
    "del(shopping_list[4])"
   ]
  },
  {
   "cell_type": "code",
   "execution_count": 157,
   "id": "f3cc028c-afef-4d23-8cdc-45a9d6ee0cc6",
   "metadata": {},
   "outputs": [
    {
     "data": {
      "text/plain": [
       "['watch', 'laptop', 'shoes', 'notebook', 'football']"
      ]
     },
     "execution_count": 157,
     "metadata": {},
     "output_type": "execute_result"
    }
   ],
   "source": [
    "shopping_list"
   ]
  },
  {
   "cell_type": "code",
   "execution_count": 159,
   "id": "fe22d84c-3fec-4dc1-8978-9fe98aabe305",
   "metadata": {},
   "outputs": [
    {
     "name": "stdout",
     "output_type": "stream",
     "text": [
      "['watch', 'laptop', 'shoes', 'notebook', 'football']\n"
     ]
    }
   ],
   "source": [
    "print(shopping_list)"
   ]
  },
  {
   "cell_type": "code",
   "execution_count": null,
   "id": "dfbcaa16-3f0f-4056-99f6-102fad961076",
   "metadata": {},
   "outputs": [],
   "source": []
  }
 ],
 "metadata": {
  "kernelspec": {
   "display_name": "anaconda-panel-2023.05-py310",
   "language": "python",
   "name": "conda-env-anaconda-panel-2023.05-py310-py"
  },
  "language_info": {
   "codemirror_mode": {
    "name": "ipython",
    "version": 3
   },
   "file_extension": ".py",
   "mimetype": "text/x-python",
   "name": "python",
   "nbconvert_exporter": "python",
   "pygments_lexer": "ipython3",
   "version": "3.11.5"
  }
 },
 "nbformat": 4,
 "nbformat_minor": 5
}
